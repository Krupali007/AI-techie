{
 "cells": [
  {
   "cell_type": "code",
   "execution_count": 1,
   "id": "56014d62-f48f-4b00-a2e2-adabeb0af516",
   "metadata": {},
   "outputs": [],
   "source": [
    "#Declare two variables, `x` and `y`, and assign them integer values. Swap the values of these variables without using any temporary variable."
   ]
  },
  {
   "cell_type": "code",
   "execution_count": 2,
   "id": "b0bf1e77-3fa3-49d6-a2ce-fd96e58fe2a1",
   "metadata": {},
   "outputs": [],
   "source": [
    "x = 20"
   ]
  },
  {
   "cell_type": "code",
   "execution_count": 3,
   "id": "3a1d2240-09e7-44d1-886f-dad5903cc427",
   "metadata": {},
   "outputs": [],
   "source": [
    "y = 12"
   ]
  },
  {
   "cell_type": "code",
   "execution_count": 4,
   "id": "b52558fb-dc98-463f-8faf-9c5be21fee1b",
   "metadata": {},
   "outputs": [],
   "source": [
    "x = x + y"
   ]
  },
  {
   "cell_type": "code",
   "execution_count": 5,
   "id": "de0db825-dba3-4b75-99f8-cea338a82060",
   "metadata": {},
   "outputs": [],
   "source": [
    "y = x - y"
   ]
  },
  {
   "cell_type": "code",
   "execution_count": 6,
   "id": "aaf5a85a-31c9-4b84-99cd-12fa36c1e53a",
   "metadata": {},
   "outputs": [],
   "source": [
    "x = x - y"
   ]
  },
  {
   "cell_type": "code",
   "execution_count": 7,
   "id": "1cf5cfd2-2cbc-4e30-8ab0-de239c345118",
   "metadata": {},
   "outputs": [
    {
     "name": "stdout",
     "output_type": "stream",
     "text": [
      "After Swapping: x = 12  y = 20\n"
     ]
    }
   ],
   "source": [
    "print(\"After Swapping: x =\", x, \" y =\", y)"
   ]
  },
  {
   "cell_type": "code",
   "execution_count": 8,
   "id": "3000b491-ef29-483d-a4fc-a69e007ca32a",
   "metadata": {},
   "outputs": [],
   "source": [
    "#Create a program that calculates the area of a rectangle. Take the length and width as inputs from the user and store them in variables. \n",
    "#Calculate and display the area."
   ]
  },
  {
   "cell_type": "code",
   "execution_count": 10,
   "id": "febde41c-95a9-4c0b-981c-9c63a1bb90b5",
   "metadata": {},
   "outputs": [
    {
     "name": "stdin",
     "output_type": "stream",
     "text": [
      " 45\n"
     ]
    }
   ],
   "source": [
    "lenght = int(input())"
   ]
  },
  {
   "cell_type": "code",
   "execution_count": 25,
   "id": "faf5b77e-fa4d-4892-945d-fb70af7287fc",
   "metadata": {},
   "outputs": [
    {
     "name": "stdin",
     "output_type": "stream",
     "text": [
      " 40\n"
     ]
    }
   ],
   "source": [
    "width = int(input())"
   ]
  },
  {
   "cell_type": "code",
   "execution_count": 26,
   "id": "3915ec6e-ec51-4aa9-a566-a88c10775deb",
   "metadata": {},
   "outputs": [],
   "source": [
    "# Calculate the area of the rectangle\n",
    "area = lenght * width"
   ]
  },
  {
   "cell_type": "code",
   "execution_count": 27,
   "id": "9d7ea80d-8830-4582-af81-48222353debf",
   "metadata": {},
   "outputs": [
    {
     "name": "stdout",
     "output_type": "stream",
     "text": [
      "The area of the rectangle is 1800\n"
     ]
    }
   ],
   "source": [
    "# Display the area of the rectangle\n",
    "print(\"The area of the rectangle is\", area)"
   ]
  },
  {
   "cell_type": "code",
   "execution_count": 28,
   "id": "6a36f96c-5722-467e-9955-f1da3700e901",
   "metadata": {},
   "outputs": [
    {
     "data": {
      "text/plain": [
       "'Write a Python program that converts temperatures from Celsius to\\nFahrenheit. Take the temperature in Celsius as input, store it in a variable,\\nconvert it to Fahrenheit, and display the result.'"
      ]
     },
     "execution_count": 28,
     "metadata": {},
     "output_type": "execute_result"
    }
   ],
   "source": [
    "'''Write a Python program that converts temperatures from Celsius to\n",
    "Fahrenheit. Take the temperature in Celsius as input, store it in a variable,\n",
    "convert it to Fahrenheit, and display the result.'''"
   ]
  },
  {
   "cell_type": "code",
   "execution_count": 30,
   "id": "b344e0ab-2f9f-4694-b369-e4e92ee42cf1",
   "metadata": {},
   "outputs": [
    {
     "name": "stdin",
     "output_type": "stream",
     "text": [
      " 28\n"
     ]
    }
   ],
   "source": [
    "celsius = int(input())"
   ]
  },
  {
   "cell_type": "code",
   "execution_count": 31,
   "id": "3b05bd15-4b9d-4240-b95e-88ba804e09a5",
   "metadata": {},
   "outputs": [],
   "source": [
    "fahrenheit = (celsius * 9 / 5) + 32"
   ]
  },
  {
   "cell_type": "code",
   "execution_count": 32,
   "id": "e788757b-943b-41f2-95bf-638aa9db21ea",
   "metadata": {},
   "outputs": [
    {
     "name": "stdout",
     "output_type": "stream",
     "text": [
      "The temperature in Fahrenheit is: 82.4\n"
     ]
    }
   ],
   "source": [
    "print(\"The temperature in Fahrenheit is:\", fahrenheit)"
   ]
  },
  {
   "cell_type": "code",
   "execution_count": 5,
   "id": "81f23b8b-22e6-4e41-86ad-03959a3763e3",
   "metadata": {},
   "outputs": [
    {
     "name": "stdin",
     "output_type": "stream",
     "text": [
      " 'power'\n"
     ]
    }
   ],
   "source": [
    "string=input()"
   ]
  },
  {
   "cell_type": "code",
   "execution_count": 6,
   "id": "167f219a-f291-4134-b0e3-bda47b766568",
   "metadata": {},
   "outputs": [],
   "source": [
    "count=0"
   ]
  },
  {
   "cell_type": "code",
   "execution_count": 7,
   "id": "59551caf-38cd-45ca-89e0-f6ea9db1e8c2",
   "metadata": {},
   "outputs": [],
   "source": [
    "for i in string:\n",
    "      count=count+1"
   ]
  },
  {
   "cell_type": "code",
   "execution_count": 8,
   "id": "a7770571-f473-4b14-bbe1-e0d6569647c2",
   "metadata": {},
   "outputs": [
    {
     "name": "stdout",
     "output_type": "stream",
     "text": [
      "Length of the string is:\n"
     ]
    }
   ],
   "source": [
    "print(\"Length of the string is:\")"
   ]
  },
  {
   "cell_type": "code",
   "execution_count": 9,
   "id": "976859ec-df5b-489b-805e-969244d2510d",
   "metadata": {},
   "outputs": [
    {
     "name": "stdout",
     "output_type": "stream",
     "text": [
      "7\n"
     ]
    }
   ],
   "source": [
    "print(count)"
   ]
  },
  {
   "cell_type": "code",
   "execution_count": 10,
   "id": "02d58b40-2a2e-4a8f-a95f-3bb303155f91",
   "metadata": {},
   "outputs": [],
   "source": [
    "#Create a program that takes a sentence from the user and counts the number of vowels (a, e, i, o, u) in the string."
   ]
  },
  {
   "cell_type": "code",
   "execution_count": 13,
   "id": "79e75226-cedb-4653-9064-3190cb0e086e",
   "metadata": {},
   "outputs": [],
   "source": [
    "string = \"GeekforGeeks!\""
   ]
  },
  {
   "cell_type": "code",
   "execution_count": 17,
   "id": "1dd3b3e1-60dc-4627-a03e-d347b4ea9afe",
   "metadata": {},
   "outputs": [],
   "source": [
    "vowels = \"aeiouAEIOU\""
   ]
  },
  {
   "cell_type": "code",
   "execution_count": 28,
   "id": "c1768a60-c8da-4acb-b915-f1e84f85dedd",
   "metadata": {},
   "outputs": [
    {
     "ename": "NameError",
     "evalue": "name 'vowels' is not defined",
     "output_type": "error",
     "traceback": [
      "\u001b[0;31m---------------------------------------------------------------------------\u001b[0m",
      "\u001b[0;31mNameError\u001b[0m                                 Traceback (most recent call last)",
      "Cell \u001b[0;32mIn[28], line 1\u001b[0m\n\u001b[0;32m----> 1\u001b[0m count \u001b[38;5;241m=\u001b[39m \u001b[38;5;28msum\u001b[39m(string\u001b[38;5;241m.\u001b[39mcount(vowels) \u001b[38;5;28;01mfor\u001b[39;00m vowels \u001b[38;5;129;01min\u001b[39;00m \u001b[43mvowels\u001b[49m)\n\u001b[1;32m      2\u001b[0m \u001b[38;5;28mprint\u001b[39m(count)\n",
      "\u001b[0;31mNameError\u001b[0m: name 'vowels' is not defined"
     ]
    }
   ],
   "source": [
    "count = sum(string.count(vowels) for vowels in vowels)\n",
    "print(count)"
   ]
  },
  {
   "cell_type": "code",
   "execution_count": 14,
   "id": "9dc597ab-741d-4d3c-a5ca-64f07c557a22",
   "metadata": {},
   "outputs": [],
   "source": [
    "string = 'success'"
   ]
  },
  {
   "cell_type": "code",
   "execution_count": 17,
   "id": "d90bd699-8d40-4890-8db6-9a8a4c454542",
   "metadata": {},
   "outputs": [
    {
     "data": {
      "text/plain": [
       "'success'"
      ]
     },
     "execution_count": 17,
     "metadata": {},
     "output_type": "execute_result"
    }
   ],
   "source": [
    "string[::]"
   ]
  },
  {
   "cell_type": "code",
   "execution_count": 16,
   "id": "c3dc9ff5-3e48-47d3-9eee-6520ca657887",
   "metadata": {},
   "outputs": [
    {
     "data": {
      "text/plain": [
       "'sseccus'"
      ]
     },
     "execution_count": 16,
     "metadata": {},
     "output_type": "execute_result"
    }
   ],
   "source": [
    "string[::-1]"
   ]
  },
  {
   "cell_type": "code",
   "execution_count": 25,
   "id": "7581d929-f607-45ea-8712-c92c3fe0a444",
   "metadata": {},
   "outputs": [
    {
     "name": "stdout",
     "output_type": "stream",
     "text": [
      "Yes\n"
     ]
    }
   ],
   "source": [
    "def isPalindrome(s):\n",
    "    return s == s[::-1]\n",
    "# Driver code\n",
    "s = \"malayalam\"\n",
    "ans = isPalindrome(s)\n",
    "if ans:\n",
    "    print(\"Yes\")\n",
    "else:\n",
    "    print(\"No\")"
   ]
  },
  {
   "cell_type": "code",
   "execution_count": 26,
   "id": "330d9be2-1dcc-4c14-96b4-37ac9546028e",
   "metadata": {},
   "outputs": [
    {
     "name": "stdout",
     "output_type": "stream",
     "text": [
      "geek\n"
     ]
    }
   ],
   "source": [
    "# Python3 code to remove whitespace\n",
    "def remove(string):\n",
    "    return string.replace(\" \", \"\")\n",
    "# Driver Program\n",
    "string = ' g e e k '\n",
    "print(remove(string))"
   ]
  },
  {
   "cell_type": "code",
   "execution_count": null,
   "id": "e60a726a-5332-4088-882d-e933b679f284",
   "metadata": {},
   "outputs": [],
   "source": []
  }
 ],
 "metadata": {
  "kernelspec": {
   "display_name": "Python 3 (ipykernel)",
   "language": "python",
   "name": "python3"
  },
  "language_info": {
   "codemirror_mode": {
    "name": "ipython",
    "version": 3
   },
   "file_extension": ".py",
   "mimetype": "text/x-python",
   "name": "python",
   "nbconvert_exporter": "python",
   "pygments_lexer": "ipython3",
   "version": "3.10.8"
  }
 },
 "nbformat": 4,
 "nbformat_minor": 5
}
